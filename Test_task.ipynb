{
 "cells": [
  {
   "cell_type": "markdown",
   "metadata": {},
   "source": [
    "Задание:\n",
    "\n",
    "В документе предоставлены реальные сырые данные по рекламному заработку первых 7-ми дней\n",
    "жизни пользователей, установивших игру 01.09.2024.\n",
    "\n",
    "На основе имеющихся данных предоставьте в удобном для вас формате прогноз рекламного\n",
    "заработка до 30.09.2024.\n",
    "\n",
    "Во сколько раз накопительный доход к 30-му дню будет больше дохода в день установки игры?\n",
    "\n",
    "Пояснение к таблицe:\n",
    "\n",
    "Лист ad revenue(данные по рекламному заработку):\n",
    "\n",
    "Install_date - дата установки игры пользователем\n",
    "\n",
    "Event_date - дата совершения события\n",
    "\n",
    "Event_revenue - рекламный заработок\n",
    "\n",
    "User_id - уникальный идентификатор пользователя"
   ]
  },
  {
   "cell_type": "markdown",
   "metadata": {},
   "source": [
    "Имортируем необходимые для работы библиотеки"
   ]
  },
  {
   "cell_type": "code",
   "execution_count": 167,
   "metadata": {},
   "outputs": [],
   "source": [
    "import pandas as pd\n",
    "import matplotlib.pyplot as plt\n",
    "from scipy.optimize import curve_fit\n",
    "import numpy as np"
   ]
  },
  {
   "cell_type": "markdown",
   "metadata": {},
   "source": [
    "Считываем файл, перводим его в формат датафрейма для более удобной работы"
   ]
  },
  {
   "cell_type": "code",
   "execution_count": 168,
   "metadata": {},
   "outputs": [
    {
     "data": {
      "text/html": [
       "<div>\n",
       "<style scoped>\n",
       "    .dataframe tbody tr th:only-of-type {\n",
       "        vertical-align: middle;\n",
       "    }\n",
       "\n",
       "    .dataframe tbody tr th {\n",
       "        vertical-align: top;\n",
       "    }\n",
       "\n",
       "    .dataframe thead th {\n",
       "        text-align: right;\n",
       "    }\n",
       "</style>\n",
       "<table border=\"1\" class=\"dataframe\">\n",
       "  <thead>\n",
       "    <tr style=\"text-align: right;\">\n",
       "      <th></th>\n",
       "      <th>install_date</th>\n",
       "      <th>event_date</th>\n",
       "      <th>event_revenue</th>\n",
       "      <th>user_id</th>\n",
       "    </tr>\n",
       "  </thead>\n",
       "  <tbody>\n",
       "    <tr>\n",
       "      <th>0</th>\n",
       "      <td>2024-09-01</td>\n",
       "      <td>2024-09-01</td>\n",
       "      <td>0.128428</td>\n",
       "      <td>28add615-1760-42a1-bb2e-f25d831d18e7</td>\n",
       "    </tr>\n",
       "    <tr>\n",
       "      <th>1</th>\n",
       "      <td>2024-09-01</td>\n",
       "      <td>2024-09-01</td>\n",
       "      <td>0.025017</td>\n",
       "      <td>c1680ba0-5b74-408d-a573-06ca1ad3f502</td>\n",
       "    </tr>\n",
       "    <tr>\n",
       "      <th>2</th>\n",
       "      <td>2024-09-01</td>\n",
       "      <td>2024-09-01</td>\n",
       "      <td>0.047368</td>\n",
       "      <td>5f80f606-a748-43ff-9356-88ca9b41cbd3</td>\n",
       "    </tr>\n",
       "    <tr>\n",
       "      <th>3</th>\n",
       "      <td>2024-09-01</td>\n",
       "      <td>2024-09-01</td>\n",
       "      <td>0.053080</td>\n",
       "      <td>3b592e6d-f35a-4715-9cf3-9b7a63336c24</td>\n",
       "    </tr>\n",
       "    <tr>\n",
       "      <th>4</th>\n",
       "      <td>2024-09-01</td>\n",
       "      <td>2024-09-01</td>\n",
       "      <td>0.023026</td>\n",
       "      <td>c1680ba0-5b74-408d-a573-06ca1ad3f502</td>\n",
       "    </tr>\n",
       "    <tr>\n",
       "      <th>...</th>\n",
       "      <td>...</td>\n",
       "      <td>...</td>\n",
       "      <td>...</td>\n",
       "      <td>...</td>\n",
       "    </tr>\n",
       "    <tr>\n",
       "      <th>89569</th>\n",
       "      <td>2024-09-01</td>\n",
       "      <td>2024-09-07</td>\n",
       "      <td>0.008747</td>\n",
       "      <td>290aec44-284b-450c-8a56-610d51faf98e</td>\n",
       "    </tr>\n",
       "    <tr>\n",
       "      <th>89570</th>\n",
       "      <td>2024-09-01</td>\n",
       "      <td>2024-09-07</td>\n",
       "      <td>0.003559</td>\n",
       "      <td>2139196a-f844-4d04-9467-6ac9c9564d33</td>\n",
       "    </tr>\n",
       "    <tr>\n",
       "      <th>89571</th>\n",
       "      <td>2024-09-01</td>\n",
       "      <td>2024-09-07</td>\n",
       "      <td>0.004110</td>\n",
       "      <td>0709ac8b-58d0-4e49-a304-d31a726c5330</td>\n",
       "    </tr>\n",
       "    <tr>\n",
       "      <th>89572</th>\n",
       "      <td>2024-09-01</td>\n",
       "      <td>2024-09-07</td>\n",
       "      <td>0.034042</td>\n",
       "      <td>c69234b4-edb0-4024-84ae-53a6ccf6b46b</td>\n",
       "    </tr>\n",
       "    <tr>\n",
       "      <th>89573</th>\n",
       "      <td>2024-09-01</td>\n",
       "      <td>2024-09-07</td>\n",
       "      <td>0.020817</td>\n",
       "      <td>0709ac8b-58d0-4e49-a304-d31a726c5330</td>\n",
       "    </tr>\n",
       "  </tbody>\n",
       "</table>\n",
       "<p>89574 rows × 4 columns</p>\n",
       "</div>"
      ],
      "text/plain": [
       "      install_date  event_date  event_revenue  \\\n",
       "0       2024-09-01  2024-09-01       0.128428   \n",
       "1       2024-09-01  2024-09-01       0.025017   \n",
       "2       2024-09-01  2024-09-01       0.047368   \n",
       "3       2024-09-01  2024-09-01       0.053080   \n",
       "4       2024-09-01  2024-09-01       0.023026   \n",
       "...            ...         ...            ...   \n",
       "89569   2024-09-01  2024-09-07       0.008747   \n",
       "89570   2024-09-01  2024-09-07       0.003559   \n",
       "89571   2024-09-01  2024-09-07       0.004110   \n",
       "89572   2024-09-01  2024-09-07       0.034042   \n",
       "89573   2024-09-01  2024-09-07       0.020817   \n",
       "\n",
       "                                    user_id  \n",
       "0      28add615-1760-42a1-bb2e-f25d831d18e7  \n",
       "1      c1680ba0-5b74-408d-a573-06ca1ad3f502  \n",
       "2      5f80f606-a748-43ff-9356-88ca9b41cbd3  \n",
       "3      3b592e6d-f35a-4715-9cf3-9b7a63336c24  \n",
       "4      c1680ba0-5b74-408d-a573-06ca1ad3f502  \n",
       "...                                     ...  \n",
       "89569  290aec44-284b-450c-8a56-610d51faf98e  \n",
       "89570  2139196a-f844-4d04-9467-6ac9c9564d33  \n",
       "89571  0709ac8b-58d0-4e49-a304-d31a726c5330  \n",
       "89572  c69234b4-edb0-4024-84ae-53a6ccf6b46b  \n",
       "89573  0709ac8b-58d0-4e49-a304-d31a726c5330  \n",
       "\n",
       "[89574 rows x 4 columns]"
      ]
     },
     "execution_count": 168,
     "metadata": {},
     "output_type": "execute_result"
    }
   ],
   "source": [
    "df = pd.read_csv(r'C:\\Users\\Julia\\Downloads\\Ad revenue - ad revenue.csv')\n",
    "pd.DataFrame(data = df)"
   ]
  },
  {
   "cell_type": "markdown",
   "metadata": {},
   "source": [
    "Изучим данные: преобразуем типы данных, проверим пропуски, дубли."
   ]
  },
  {
   "cell_type": "code",
   "execution_count": 169,
   "metadata": {},
   "outputs": [
    {
     "data": {
      "text/plain": [
       "install_date      object\n",
       "event_date        object\n",
       "event_revenue    float64\n",
       "user_id           object\n",
       "dtype: object"
      ]
     },
     "execution_count": 169,
     "metadata": {},
     "output_type": "execute_result"
    }
   ],
   "source": [
    "df.dtypes"
   ]
  },
  {
   "cell_type": "markdown",
   "metadata": {},
   "source": [
    "Переведем столцы с датой в формат datetime"
   ]
  },
  {
   "cell_type": "code",
   "execution_count": 170,
   "metadata": {},
   "outputs": [],
   "source": [
    "df.install_date = pd.to_datetime(df.install_date)\n",
    "df.event_date = pd.to_datetime(df.event_date)"
   ]
  },
  {
   "cell_type": "code",
   "execution_count": 171,
   "metadata": {},
   "outputs": [
    {
     "data": {
      "text/plain": [
       "np.int64(7004)"
      ]
     },
     "execution_count": 171,
     "metadata": {},
     "output_type": "execute_result"
    }
   ],
   "source": [
    "df.duplicated().sum()"
   ]
  },
  {
   "cell_type": "markdown",
   "metadata": {},
   "source": [
    "Видим, что в датафрейме 7004 одинаковых строк, но удалять их не станем, так как пользователь мог в один и тот же день совершить несколько покупок на однуу сумму. К сожалению, у нас нет номера транзакции или точного времени с секундами, чтобы сделать точные выводы, поэтому оставим, как есть."
   ]
  },
  {
   "cell_type": "code",
   "execution_count": 172,
   "metadata": {},
   "outputs": [
    {
     "data": {
      "text/plain": [
       "install_date     0\n",
       "event_date       0\n",
       "event_revenue    0\n",
       "user_id          0\n",
       "dtype: int64"
      ]
     },
     "execution_count": 172,
     "metadata": {},
     "output_type": "execute_result"
    }
   ],
   "source": [
    "df.isna().sum()"
   ]
  },
  {
   "cell_type": "markdown",
   "metadata": {},
   "source": [
    "Пропусков нет."
   ]
  },
  {
   "cell_type": "code",
   "execution_count": 173,
   "metadata": {},
   "outputs": [
    {
     "data": {
      "text/html": [
       "<div>\n",
       "<style scoped>\n",
       "    .dataframe tbody tr th:only-of-type {\n",
       "        vertical-align: middle;\n",
       "    }\n",
       "\n",
       "    .dataframe tbody tr th {\n",
       "        vertical-align: top;\n",
       "    }\n",
       "\n",
       "    .dataframe thead th {\n",
       "        text-align: right;\n",
       "    }\n",
       "</style>\n",
       "<table border=\"1\" class=\"dataframe\">\n",
       "  <thead>\n",
       "    <tr style=\"text-align: right;\">\n",
       "      <th></th>\n",
       "      <th>install_date</th>\n",
       "      <th>event_date</th>\n",
       "      <th>event_revenue</th>\n",
       "    </tr>\n",
       "  </thead>\n",
       "  <tbody>\n",
       "    <tr>\n",
       "      <th>count</th>\n",
       "      <td>89574</td>\n",
       "      <td>89574</td>\n",
       "      <td>89574.000000</td>\n",
       "    </tr>\n",
       "    <tr>\n",
       "      <th>mean</th>\n",
       "      <td>2024-09-01 00:00:00</td>\n",
       "      <td>2024-09-02 20:13:04.191841280</td>\n",
       "      <td>0.029325</td>\n",
       "    </tr>\n",
       "    <tr>\n",
       "      <th>min</th>\n",
       "      <td>2024-09-01 00:00:00</td>\n",
       "      <td>2024-09-01 00:00:00</td>\n",
       "      <td>0.000014</td>\n",
       "    </tr>\n",
       "    <tr>\n",
       "      <th>25%</th>\n",
       "      <td>2024-09-01 00:00:00</td>\n",
       "      <td>2024-09-01 00:00:00</td>\n",
       "      <td>0.007204</td>\n",
       "    </tr>\n",
       "    <tr>\n",
       "      <th>50%</th>\n",
       "      <td>2024-09-01 00:00:00</td>\n",
       "      <td>2024-09-02 00:00:00</td>\n",
       "      <td>0.014948</td>\n",
       "    </tr>\n",
       "    <tr>\n",
       "      <th>75%</th>\n",
       "      <td>2024-09-01 00:00:00</td>\n",
       "      <td>2024-09-04 00:00:00</td>\n",
       "      <td>0.030980</td>\n",
       "    </tr>\n",
       "    <tr>\n",
       "      <th>max</th>\n",
       "      <td>2024-09-01 00:00:00</td>\n",
       "      <td>2024-09-07 00:00:00</td>\n",
       "      <td>1.473103</td>\n",
       "    </tr>\n",
       "    <tr>\n",
       "      <th>std</th>\n",
       "      <td>NaN</td>\n",
       "      <td>NaN</td>\n",
       "      <td>0.054141</td>\n",
       "    </tr>\n",
       "  </tbody>\n",
       "</table>\n",
       "</div>"
      ],
      "text/plain": [
       "              install_date                     event_date  event_revenue\n",
       "count                89574                          89574   89574.000000\n",
       "mean   2024-09-01 00:00:00  2024-09-02 20:13:04.191841280       0.029325\n",
       "min    2024-09-01 00:00:00            2024-09-01 00:00:00       0.000014\n",
       "25%    2024-09-01 00:00:00            2024-09-01 00:00:00       0.007204\n",
       "50%    2024-09-01 00:00:00            2024-09-02 00:00:00       0.014948\n",
       "75%    2024-09-01 00:00:00            2024-09-04 00:00:00       0.030980\n",
       "max    2024-09-01 00:00:00            2024-09-07 00:00:00       1.473103\n",
       "std                    NaN                            NaN       0.054141"
      ]
     },
     "execution_count": 173,
     "metadata": {},
     "output_type": "execute_result"
    }
   ],
   "source": [
    "df.describe()"
   ]
  },
  {
   "cell_type": "markdown",
   "metadata": {},
   "source": [
    "Рассчитаем количество дней с момента установки"
   ]
  },
  {
   "cell_type": "code",
   "execution_count": 186,
   "metadata": {},
   "outputs": [
    {
     "data": {
      "text/html": [
       "<div>\n",
       "<style scoped>\n",
       "    .dataframe tbody tr th:only-of-type {\n",
       "        vertical-align: middle;\n",
       "    }\n",
       "\n",
       "    .dataframe tbody tr th {\n",
       "        vertical-align: top;\n",
       "    }\n",
       "\n",
       "    .dataframe thead th {\n",
       "        text-align: right;\n",
       "    }\n",
       "</style>\n",
       "<table border=\"1\" class=\"dataframe\">\n",
       "  <thead>\n",
       "    <tr style=\"text-align: right;\">\n",
       "      <th></th>\n",
       "      <th>install_date</th>\n",
       "      <th>event_date</th>\n",
       "      <th>event_revenue</th>\n",
       "      <th>user_id</th>\n",
       "      <th>days_since_install</th>\n",
       "    </tr>\n",
       "  </thead>\n",
       "  <tbody>\n",
       "    <tr>\n",
       "      <th>0</th>\n",
       "      <td>2024-09-01</td>\n",
       "      <td>2024-09-01</td>\n",
       "      <td>0.128428</td>\n",
       "      <td>28add615-1760-42a1-bb2e-f25d831d18e7</td>\n",
       "      <td>0</td>\n",
       "    </tr>\n",
       "    <tr>\n",
       "      <th>1</th>\n",
       "      <td>2024-09-01</td>\n",
       "      <td>2024-09-01</td>\n",
       "      <td>0.025017</td>\n",
       "      <td>c1680ba0-5b74-408d-a573-06ca1ad3f502</td>\n",
       "      <td>0</td>\n",
       "    </tr>\n",
       "    <tr>\n",
       "      <th>2</th>\n",
       "      <td>2024-09-01</td>\n",
       "      <td>2024-09-01</td>\n",
       "      <td>0.047368</td>\n",
       "      <td>5f80f606-a748-43ff-9356-88ca9b41cbd3</td>\n",
       "      <td>0</td>\n",
       "    </tr>\n",
       "    <tr>\n",
       "      <th>3</th>\n",
       "      <td>2024-09-01</td>\n",
       "      <td>2024-09-01</td>\n",
       "      <td>0.053080</td>\n",
       "      <td>3b592e6d-f35a-4715-9cf3-9b7a63336c24</td>\n",
       "      <td>0</td>\n",
       "    </tr>\n",
       "    <tr>\n",
       "      <th>4</th>\n",
       "      <td>2024-09-01</td>\n",
       "      <td>2024-09-01</td>\n",
       "      <td>0.023026</td>\n",
       "      <td>c1680ba0-5b74-408d-a573-06ca1ad3f502</td>\n",
       "      <td>0</td>\n",
       "    </tr>\n",
       "    <tr>\n",
       "      <th>...</th>\n",
       "      <td>...</td>\n",
       "      <td>...</td>\n",
       "      <td>...</td>\n",
       "      <td>...</td>\n",
       "      <td>...</td>\n",
       "    </tr>\n",
       "    <tr>\n",
       "      <th>89569</th>\n",
       "      <td>2024-09-01</td>\n",
       "      <td>2024-09-07</td>\n",
       "      <td>0.008747</td>\n",
       "      <td>290aec44-284b-450c-8a56-610d51faf98e</td>\n",
       "      <td>6</td>\n",
       "    </tr>\n",
       "    <tr>\n",
       "      <th>89570</th>\n",
       "      <td>2024-09-01</td>\n",
       "      <td>2024-09-07</td>\n",
       "      <td>0.003559</td>\n",
       "      <td>2139196a-f844-4d04-9467-6ac9c9564d33</td>\n",
       "      <td>6</td>\n",
       "    </tr>\n",
       "    <tr>\n",
       "      <th>89571</th>\n",
       "      <td>2024-09-01</td>\n",
       "      <td>2024-09-07</td>\n",
       "      <td>0.004110</td>\n",
       "      <td>0709ac8b-58d0-4e49-a304-d31a726c5330</td>\n",
       "      <td>6</td>\n",
       "    </tr>\n",
       "    <tr>\n",
       "      <th>89572</th>\n",
       "      <td>2024-09-01</td>\n",
       "      <td>2024-09-07</td>\n",
       "      <td>0.034042</td>\n",
       "      <td>c69234b4-edb0-4024-84ae-53a6ccf6b46b</td>\n",
       "      <td>6</td>\n",
       "    </tr>\n",
       "    <tr>\n",
       "      <th>89573</th>\n",
       "      <td>2024-09-01</td>\n",
       "      <td>2024-09-07</td>\n",
       "      <td>0.020817</td>\n",
       "      <td>0709ac8b-58d0-4e49-a304-d31a726c5330</td>\n",
       "      <td>6</td>\n",
       "    </tr>\n",
       "  </tbody>\n",
       "</table>\n",
       "<p>89574 rows × 5 columns</p>\n",
       "</div>"
      ],
      "text/plain": [
       "      install_date event_date  event_revenue  \\\n",
       "0       2024-09-01 2024-09-01       0.128428   \n",
       "1       2024-09-01 2024-09-01       0.025017   \n",
       "2       2024-09-01 2024-09-01       0.047368   \n",
       "3       2024-09-01 2024-09-01       0.053080   \n",
       "4       2024-09-01 2024-09-01       0.023026   \n",
       "...            ...        ...            ...   \n",
       "89569   2024-09-01 2024-09-07       0.008747   \n",
       "89570   2024-09-01 2024-09-07       0.003559   \n",
       "89571   2024-09-01 2024-09-07       0.004110   \n",
       "89572   2024-09-01 2024-09-07       0.034042   \n",
       "89573   2024-09-01 2024-09-07       0.020817   \n",
       "\n",
       "                                    user_id  days_since_install  \n",
       "0      28add615-1760-42a1-bb2e-f25d831d18e7                   0  \n",
       "1      c1680ba0-5b74-408d-a573-06ca1ad3f502                   0  \n",
       "2      5f80f606-a748-43ff-9356-88ca9b41cbd3                   0  \n",
       "3      3b592e6d-f35a-4715-9cf3-9b7a63336c24                   0  \n",
       "4      c1680ba0-5b74-408d-a573-06ca1ad3f502                   0  \n",
       "...                                     ...                 ...  \n",
       "89569  290aec44-284b-450c-8a56-610d51faf98e                   6  \n",
       "89570  2139196a-f844-4d04-9467-6ac9c9564d33                   6  \n",
       "89571  0709ac8b-58d0-4e49-a304-d31a726c5330                   6  \n",
       "89572  c69234b4-edb0-4024-84ae-53a6ccf6b46b                   6  \n",
       "89573  0709ac8b-58d0-4e49-a304-d31a726c5330                   6  \n",
       "\n",
       "[89574 rows x 5 columns]"
      ]
     },
     "execution_count": 186,
     "metadata": {},
     "output_type": "execute_result"
    }
   ],
   "source": [
    "df['days_since_install'] = (df.event_date - df.install_date).dt.days\n",
    "df"
   ]
  },
  {
   "cell_type": "markdown",
   "metadata": {},
   "source": [
    "Сгруппируем по дате установки и количеству дней для подсчета дневного дохода "
   ]
  },
  {
   "cell_type": "code",
   "execution_count": 176,
   "metadata": {},
   "outputs": [
    {
     "data": {
      "text/html": [
       "<div>\n",
       "<style scoped>\n",
       "    .dataframe tbody tr th:only-of-type {\n",
       "        vertical-align: middle;\n",
       "    }\n",
       "\n",
       "    .dataframe tbody tr th {\n",
       "        vertical-align: top;\n",
       "    }\n",
       "\n",
       "    .dataframe thead th {\n",
       "        text-align: right;\n",
       "    }\n",
       "</style>\n",
       "<table border=\"1\" class=\"dataframe\">\n",
       "  <thead>\n",
       "    <tr style=\"text-align: right;\">\n",
       "      <th></th>\n",
       "      <th>install_date</th>\n",
       "      <th>days_since_install</th>\n",
       "      <th>total_revenue</th>\n",
       "    </tr>\n",
       "  </thead>\n",
       "  <tbody>\n",
       "    <tr>\n",
       "      <th>0</th>\n",
       "      <td>2024-09-01</td>\n",
       "      <td>0</td>\n",
       "      <td>1214.451193</td>\n",
       "    </tr>\n",
       "    <tr>\n",
       "      <th>1</th>\n",
       "      <td>2024-09-01</td>\n",
       "      <td>1</td>\n",
       "      <td>497.375629</td>\n",
       "    </tr>\n",
       "    <tr>\n",
       "      <th>2</th>\n",
       "      <td>2024-09-01</td>\n",
       "      <td>2</td>\n",
       "      <td>293.085473</td>\n",
       "    </tr>\n",
       "    <tr>\n",
       "      <th>3</th>\n",
       "      <td>2024-09-01</td>\n",
       "      <td>3</td>\n",
       "      <td>184.065086</td>\n",
       "    </tr>\n",
       "    <tr>\n",
       "      <th>4</th>\n",
       "      <td>2024-09-01</td>\n",
       "      <td>4</td>\n",
       "      <td>154.105280</td>\n",
       "    </tr>\n",
       "    <tr>\n",
       "      <th>5</th>\n",
       "      <td>2024-09-01</td>\n",
       "      <td>5</td>\n",
       "      <td>140.741758</td>\n",
       "    </tr>\n",
       "    <tr>\n",
       "      <th>6</th>\n",
       "      <td>2024-09-01</td>\n",
       "      <td>6</td>\n",
       "      <td>142.916394</td>\n",
       "    </tr>\n",
       "  </tbody>\n",
       "</table>\n",
       "</div>"
      ],
      "text/plain": [
       "  install_date  days_since_install  total_revenue\n",
       "0   2024-09-01                   0    1214.451193\n",
       "1   2024-09-01                   1     497.375629\n",
       "2   2024-09-01                   2     293.085473\n",
       "3   2024-09-01                   3     184.065086\n",
       "4   2024-09-01                   4     154.105280\n",
       "5   2024-09-01                   5     140.741758\n",
       "6   2024-09-01                   6     142.916394"
      ]
     },
     "execution_count": 176,
     "metadata": {},
     "output_type": "execute_result"
    }
   ],
   "source": [
    "daily_revenue = df.groupby(['install_date', 'days_since_install'],as_index=False).agg({'event_revenue':'sum'})\\\n",
    "    .rename(columns={'event_revenue': 'total_revenue'})\n",
    "daily_revenue"
   ]
  },
  {
   "cell_type": "markdown",
   "metadata": {},
   "source": [
    "Рассчитаем накопленный доход за первые 7 дней"
   ]
  },
  {
   "cell_type": "code",
   "execution_count": 177,
   "metadata": {},
   "outputs": [
    {
     "data": {
      "text/html": [
       "<div>\n",
       "<style scoped>\n",
       "    .dataframe tbody tr th:only-of-type {\n",
       "        vertical-align: middle;\n",
       "    }\n",
       "\n",
       "    .dataframe tbody tr th {\n",
       "        vertical-align: top;\n",
       "    }\n",
       "\n",
       "    .dataframe thead th {\n",
       "        text-align: right;\n",
       "    }\n",
       "</style>\n",
       "<table border=\"1\" class=\"dataframe\">\n",
       "  <thead>\n",
       "    <tr style=\"text-align: right;\">\n",
       "      <th></th>\n",
       "      <th>install_date</th>\n",
       "      <th>days_since_install</th>\n",
       "      <th>total_revenue</th>\n",
       "      <th>cumulative_revenue</th>\n",
       "    </tr>\n",
       "  </thead>\n",
       "  <tbody>\n",
       "    <tr>\n",
       "      <th>0</th>\n",
       "      <td>2024-09-01</td>\n",
       "      <td>0</td>\n",
       "      <td>1214.451193</td>\n",
       "      <td>1214.451193</td>\n",
       "    </tr>\n",
       "    <tr>\n",
       "      <th>1</th>\n",
       "      <td>2024-09-01</td>\n",
       "      <td>1</td>\n",
       "      <td>497.375629</td>\n",
       "      <td>1711.826822</td>\n",
       "    </tr>\n",
       "    <tr>\n",
       "      <th>2</th>\n",
       "      <td>2024-09-01</td>\n",
       "      <td>2</td>\n",
       "      <td>293.085473</td>\n",
       "      <td>2004.912295</td>\n",
       "    </tr>\n",
       "    <tr>\n",
       "      <th>3</th>\n",
       "      <td>2024-09-01</td>\n",
       "      <td>3</td>\n",
       "      <td>184.065086</td>\n",
       "      <td>2188.977381</td>\n",
       "    </tr>\n",
       "    <tr>\n",
       "      <th>4</th>\n",
       "      <td>2024-09-01</td>\n",
       "      <td>4</td>\n",
       "      <td>154.105280</td>\n",
       "      <td>2343.082661</td>\n",
       "    </tr>\n",
       "    <tr>\n",
       "      <th>5</th>\n",
       "      <td>2024-09-01</td>\n",
       "      <td>5</td>\n",
       "      <td>140.741758</td>\n",
       "      <td>2483.824419</td>\n",
       "    </tr>\n",
       "    <tr>\n",
       "      <th>6</th>\n",
       "      <td>2024-09-01</td>\n",
       "      <td>6</td>\n",
       "      <td>142.916394</td>\n",
       "      <td>2626.740813</td>\n",
       "    </tr>\n",
       "  </tbody>\n",
       "</table>\n",
       "</div>"
      ],
      "text/plain": [
       "  install_date  days_since_install  total_revenue  cumulative_revenue\n",
       "0   2024-09-01                   0    1214.451193         1214.451193\n",
       "1   2024-09-01                   1     497.375629         1711.826822\n",
       "2   2024-09-01                   2     293.085473         2004.912295\n",
       "3   2024-09-01                   3     184.065086         2188.977381\n",
       "4   2024-09-01                   4     154.105280         2343.082661\n",
       "5   2024-09-01                   5     140.741758         2483.824419\n",
       "6   2024-09-01                   6     142.916394         2626.740813"
      ]
     },
     "execution_count": 177,
     "metadata": {},
     "output_type": "execute_result"
    }
   ],
   "source": [
    "daily_revenue['cumulative_revenue'] = daily_revenue.groupby('install_date').agg({'total_revenue':'cumsum'})\n",
    "daily_revenue"
   ]
  },
  {
   "cell_type": "markdown",
   "metadata": {},
   "source": [
    "Построим лайнплот накопленного дохода за 7 дней"
   ]
  },
  {
   "cell_type": "code",
   "execution_count": 187,
   "metadata": {},
   "outputs": [
    {
     "data": {
      "image/png": "[encoded data removed]",
      "text/plain": [
       "<Figure size 1000x600 with 1 Axes>"
      ]
     },
     "metadata": {},
     "output_type": "display_data"
    }
   ],
   "source": [
    "plt.figure(figsize=(10, 6))\n",
    "plt.plot(daily_revenue.days_since_install, daily_revenue.cumulative_revenue, marker='o', color='b', label='Накопленный доход')\n",
    "\n",
    "plt.title('Изменение накопленного рекламного дохода', fontsize=14)\n",
    "plt.xlabel('Дни с момента установки', fontsize=12)\n",
    "plt.ylabel('Накопленный доход', fontsize=12)\n",
    "\n",
    "plt.grid(True)\n",
    "plt.legend()\n",
    "\n",
    "plt.show()"
   ]
  },
  {
   "cell_type": "markdown",
   "metadata": {},
   "source": [
    "Рост накопленного дохода не линейный, на графике наглядно видно, что регрессия логарифмическая"
   ]
  },
  {
   "cell_type": "markdown",
   "metadata": {},
   "source": [
    "Поэтому будем использовать логарифмическую функцию для прогноза"
   ]
  },
  {
   "cell_type": "code",
   "execution_count": 179,
   "metadata": {},
   "outputs": [],
   "source": [
    "def revenue_growth(days, a, b, c):\n",
    "    return a * np.log(b * days + 1) + c"
   ]
  },
  {
   "cell_type": "markdown",
   "metadata": {},
   "source": [
    "Подготовим данные для моделирования: 'days_since_install' и 'cumulative_revenue' для первых 7 дней"
   ]
  },
  {
   "cell_type": "code",
   "execution_count": 180,
   "metadata": {},
   "outputs": [],
   "source": [
    "x_data = daily_revenue['days_since_install']\n",
    "y_data = daily_revenue['cumulative_revenue']"
   ]
  },
  {
   "cell_type": "markdown",
   "metadata": {},
   "source": [
    "Проведем аппроксимацию модели методом наименьших квадратов"
   ]
  },
  {
   "cell_type": "code",
   "execution_count": 188,
   "metadata": {},
   "outputs": [
    {
     "name": "stderr",
     "output_type": "stream",
     "text": [
      "c:\\Program Files\\Python312\\Lib\\site-packages\\pandas\\core\\arraylike.py:399: RuntimeWarning: invalid value encountered in log\n",
      "  result = getattr(ufunc, method)(*inputs, **kwargs)\n"
     ]
    }
   ],
   "source": [
    "params, _ = curve_fit(revenue_growth, x_data, y_data, maxfev=10000)"
   ]
  },
  {
   "cell_type": "markdown",
   "metadata": {},
   "source": [
    "Сгенерируем предсказания для дней с 0 по 29 (30 дней сентября)"
   ]
  },
  {
   "cell_type": "code",
   "execution_count": 182,
   "metadata": {},
   "outputs": [],
   "source": [
    "days = np.arange(0, 29)\n",
    "predicted_revenue = revenue_growth(days, *params)"
   ]
  },
  {
   "cell_type": "markdown",
   "metadata": {},
   "source": [
    "Расситаем накопленный доход для дня 30 и соотношение с днем установки (день 0)"
   ]
  },
  {
   "cell_type": "code",
   "execution_count": 183,
   "metadata": {},
   "outputs": [
    {
     "data": {
      "text/plain": [
       "(np.float64(3639.118520306077), np.float64(2.988901555009412))"
      ]
     },
     "execution_count": 183,
     "metadata": {},
     "output_type": "execute_result"
    }
   ],
   "source": [
    "cumulative_day_0 = predicted_revenue[0]\n",
    "cumulative_day_30 = predicted_revenue[-1]\n",
    "revenue_ratio = cumulative_day_30 / cumulative_day_0\n",
    "\n",
    "cumulative_day_30, revenue_ratio"
   ]
  },
  {
   "cell_type": "markdown",
   "metadata": {},
   "source": [
    "Результаты:\n",
    "\n",
    "Прогнозируемый доход на 30-й день: 3639.12.\n",
    "Доход на 30-й день в 2.99 раза больше дохода в день установки игры."
   ]
  }
 ],
 "metadata": {
  "kernelspec": {
   "display_name": "Python 3",
   "language": "python",
   "name": "python3"
  },
  "language_info": {
   "codemirror_mode": {
    "name": "ipython",
    "version": 3
   },
   "file_extension": ".py",
   "mimetype": "text/x-python",
   "name": "python",
   "nbconvert_exporter": "python",
   "pygments_lexer": "ipython3",
   "version": "3.12.7"
  }
 },
 "nbformat": 4,
 "nbformat_minor": 2
}
